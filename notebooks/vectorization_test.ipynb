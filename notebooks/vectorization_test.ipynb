{
 "cells": [
  {
   "cell_type": "code",
   "execution_count": 1,
   "metadata": {},
   "outputs": [],
   "source": [
    "import sys\n",
    "\n",
    "sys.path.insert(0, \"../\")\n",
    "from modules.functions_ver2 import *"
   ]
  },
  {
   "cell_type": "code",
   "execution_count": 2,
   "metadata": {},
   "outputs": [],
   "source": [
    "h_L1 = get_gw(lens_params_0)[\"strain\"]\n",
    "h_L2 = get_gw(lens_params_1)[\"strain\"]\n",
    "h_RP1 = get_gw(RP_params_0)[\"strain\"]\n",
    "h_RP2 = get_gw(RP_params_1)[\"strain\"]"
   ]
  },
  {
   "cell_type": "code",
   "execution_count": 10,
   "metadata": {},
   "outputs": [
    {
     "ename": "TypeError",
     "evalue": "Can only convert a TimeSeries to a FrequencySeries",
     "output_type": "error",
     "traceback": [
      "\u001b[0;31m---------------------------------------------------------------------------\u001b[0m",
      "\u001b[0;31mTypeError\u001b[0m                                 Traceback (most recent call last)",
      "Cell \u001b[0;32mIn[10], line 1\u001b[0m\n\u001b[0;32m----> 1\u001b[0m \u001b[38;5;28;43;01mmatch\u001b[39;49;00m\u001b[43m(\u001b[49m\u001b[43m[\u001b[49m\u001b[43mh_L1\u001b[49m\u001b[43m,\u001b[49m\u001b[43m \u001b[49m\u001b[43mh_L2\u001b[49m\u001b[43m]\u001b[49m\u001b[43m,\u001b[49m\u001b[43m \u001b[49m\u001b[43m[\u001b[49m\u001b[43mh_RP1\u001b[49m\u001b[43m,\u001b[49m\u001b[43m \u001b[49m\u001b[43mh_RP2\u001b[49m\u001b[43m]\u001b[49m\u001b[43m)\u001b[49m\n",
      "File \u001b[0;32m/opt/homebrew/lib/python3.9/site-packages/pycbc/filter/matchedfilter.py:1382\u001b[0m, in \u001b[0;36mmatch\u001b[0;34m(vec1, vec2, psd, low_frequency_cutoff, high_frequency_cutoff, v1_norm, v2_norm, subsample_interpolation, return_phase)\u001b[0m\n\u001b[1;32m   1325\u001b[0m \u001b[38;5;28;01mdef\u001b[39;00m \u001b[38;5;21mmatch\u001b[39m(\n\u001b[1;32m   1326\u001b[0m     vec1,\n\u001b[1;32m   1327\u001b[0m     vec2,\n\u001b[0;32m   (...)\u001b[0m\n\u001b[1;32m   1334\u001b[0m     return_phase\u001b[38;5;241m=\u001b[39m\u001b[38;5;28;01mFalse\u001b[39;00m,\n\u001b[1;32m   1335\u001b[0m ):\n\u001b[1;32m   1336\u001b[0m \u001b[38;5;250m    \u001b[39m\u001b[38;5;124;03m\"\"\"Return the match between the two TimeSeries or FrequencySeries.\u001b[39;00m\n\u001b[1;32m   1337\u001b[0m \n\u001b[1;32m   1338\u001b[0m \u001b[38;5;124;03m    Return the match between two waveforms. This is equivalent to the overlap\u001b[39;00m\n\u001b[0;32m   (...)\u001b[0m\n\u001b[1;32m   1379\u001b[0m \u001b[38;5;124;03m        Phase to rotate complex waveform to get the match, if desired.\u001b[39;00m\n\u001b[1;32m   1380\u001b[0m \u001b[38;5;124;03m    \"\"\"\u001b[39;00m\n\u001b[0;32m-> 1382\u001b[0m     htilde \u001b[38;5;241m=\u001b[39m \u001b[43mmake_frequency_series\u001b[49m\u001b[43m(\u001b[49m\u001b[43mvec1\u001b[49m\u001b[43m)\u001b[49m\n\u001b[1;32m   1383\u001b[0m     stilde \u001b[38;5;241m=\u001b[39m make_frequency_series(vec2)\n\u001b[1;32m   1385\u001b[0m     N \u001b[38;5;241m=\u001b[39m (\u001b[38;5;28mlen\u001b[39m(htilde) \u001b[38;5;241m-\u001b[39m \u001b[38;5;241m1\u001b[39m) \u001b[38;5;241m*\u001b[39m \u001b[38;5;241m2\u001b[39m\n",
      "File \u001b[0;32m/opt/homebrew/lib/python3.9/site-packages/pycbc/filter/matchedfilter.py:1019\u001b[0m, in \u001b[0;36mmake_frequency_series\u001b[0;34m(vec)\u001b[0m\n\u001b[1;32m   1017\u001b[0m     \u001b[38;5;28;01mreturn\u001b[39;00m vectilde\n\u001b[1;32m   1018\u001b[0m \u001b[38;5;28;01melse\u001b[39;00m:\n\u001b[0;32m-> 1019\u001b[0m     \u001b[38;5;28;01mraise\u001b[39;00m \u001b[38;5;167;01mTypeError\u001b[39;00m(\u001b[38;5;124m\"\u001b[39m\u001b[38;5;124mCan only convert a TimeSeries to a FrequencySeries\u001b[39m\u001b[38;5;124m\"\u001b[39m)\n",
      "\u001b[0;31mTypeError\u001b[0m: Can only convert a TimeSeries to a FrequencySeries"
     ]
    }
   ],
   "source": [
    "match([h_L1, h_L2], [h_RP1, h_RP2])"
   ]
  },
  {
   "cell_type": "code",
   "execution_count": 2,
   "metadata": {},
   "outputs": [],
   "source": [
    "from modules.functions_ver3 import *"
   ]
  },
  {
   "cell_type": "code",
   "execution_count": 4,
   "metadata": {},
   "outputs": [],
   "source": [
    "RP_params = {\n",
    "    \"theta_S\": np.pi / 4,\n",
    "    \"phi_S\": 0,\n",
    "    \"theta_J\": 8 * np.pi / 9,\n",
    "    \"phi_J\": np.pi / 4,\n",
    "    \"mcz\": 20 * solar_mass,\n",
    "    \"dist\": 1.5 * giga_parsec,\n",
    "    \"eta\": 0.25,\n",
    "    \"t_c\": 0.0,\n",
    "    \"phi_c\": 0.0,\n",
    "    \"theta_tilde\": np.array([0, 1, 4, 8]),\n",
    "    \"omega_tilde\": np.array([0, 1, 2, 3]),\n",
    "    \"gamma_P\": 0.0,\n",
    "}"
   ]
  },
  {
   "cell_type": "code",
   "execution_count": 5,
   "metadata": {},
   "outputs": [
    {
     "ename": "ValueError",
     "evalue": "operands could not be broadcast together with shapes (4,) (1,303) ",
     "output_type": "error",
     "traceback": [
      "\u001b[0;31m---------------------------------------------------------------------------\u001b[0m",
      "\u001b[0;31mValueError\u001b[0m                                Traceback (most recent call last)",
      "Cell \u001b[0;32mIn[5], line 1\u001b[0m\n\u001b[0;32m----> 1\u001b[0m \u001b[43mget_gw_vec\u001b[49m\u001b[43m(\u001b[49m\u001b[38;5;241;43m*\u001b[39;49m\u001b[38;5;241;43m*\u001b[39;49m\u001b[43mRP_params\u001b[49m\u001b[43m)\u001b[49m\n",
      "File \u001b[0;32m~/Documents/TEXAS_Bridge_2324/code/lensing_and_precession/notebooks/../modules/functions_ver3.py:93\u001b[0m, in \u001b[0;36mget_gw_vec\u001b[0;34m(f_min, delta_f, **kwargs)\u001b[0m\n\u001b[1;32m     91\u001b[0m     f_cut_arr \u001b[38;5;241m=\u001b[39m np\u001b[38;5;241m.\u001b[39marray([P_f_cut(\u001b[38;5;241m*\u001b[39m\u001b[38;5;241m*\u001b[39mkwargs)])\n\u001b[1;32m     92\u001b[0m     f_arr_arr \u001b[38;5;241m=\u001b[39m np\u001b[38;5;241m.\u001b[39marray([np\u001b[38;5;241m.\u001b[39marange(f_min, f_cut, delta_f) \u001b[38;5;28;01mfor\u001b[39;00m f_cut \u001b[38;5;129;01min\u001b[39;00m f_cut_arr])\n\u001b[0;32m---> 93\u001b[0m     strain_arr \u001b[38;5;241m=\u001b[39m \u001b[43mP_strain\u001b[49m\u001b[43m(\u001b[49m\u001b[43mf_arr_arr\u001b[49m\u001b[43m,\u001b[49m\u001b[43m \u001b[49m\u001b[38;5;241;43m*\u001b[39;49m\u001b[38;5;241;43m*\u001b[39;49m\u001b[43mkwargs\u001b[49m\u001b[43m)\u001b[49m\n\u001b[1;32m     94\u001b[0m \u001b[38;5;28;01mreturn\u001b[39;00m {\u001b[38;5;124m\"\u001b[39m\u001b[38;5;124mf_array\u001b[39m\u001b[38;5;124m\"\u001b[39m: f_arr_arr, \u001b[38;5;124m\"\u001b[39m\u001b[38;5;124mstrain\u001b[39m\u001b[38;5;124m\"\u001b[39m: strain_arr}\n",
      "File \u001b[0;32m~/Documents/TEXAS_Bridge_2324/code/lensing_and_precession/notebooks/../modules/Precessing.py:230\u001b[0m, in \u001b[0;36mP_strain\u001b[0;34m(f, delta_f, frequencySeries, **kwargs)\u001b[0m\n\u001b[1;32m    228\u001b[0m \u001b[38;5;28;01mdef\u001b[39;00m \u001b[38;5;21mP_strain\u001b[39m(f, delta_f\u001b[38;5;241m=\u001b[39m\u001b[38;5;241m0.25\u001b[39m, frequencySeries\u001b[38;5;241m=\u001b[39m\u001b[38;5;28;01mTrue\u001b[39;00m, \u001b[38;5;241m*\u001b[39m\u001b[38;5;241m*\u001b[39mkwargs):\n\u001b[1;32m    229\u001b[0m \u001b[38;5;250m    \u001b[39m\u001b[38;5;124;03m\"\"\"precessing GW\"\"\"\u001b[39;00m\n\u001b[0;32m--> 230\u001b[0m     strain \u001b[38;5;241m=\u001b[39m \u001b[43mP_amplitude\u001b[49m\u001b[43m(\u001b[49m\u001b[43mf\u001b[49m\u001b[43m,\u001b[49m\u001b[43m \u001b[49m\u001b[38;5;241;43m*\u001b[39;49m\u001b[38;5;241;43m*\u001b[39;49m\u001b[43mkwargs\u001b[49m\u001b[43m)\u001b[49m \u001b[38;5;241m*\u001b[39m np\u001b[38;5;241m.\u001b[39mexp(\n\u001b[1;32m    231\u001b[0m         \u001b[38;5;241m1\u001b[39mj\n\u001b[1;32m    232\u001b[0m         \u001b[38;5;241m*\u001b[39m (\n\u001b[1;32m    233\u001b[0m             P_Psi(f, \u001b[38;5;241m*\u001b[39m\u001b[38;5;241m*\u001b[39mkwargs)\n\u001b[1;32m    234\u001b[0m             \u001b[38;5;241m-\u001b[39m P_phase_phi_P(f, \u001b[38;5;241m*\u001b[39m\u001b[38;5;241m*\u001b[39mkwargs)\n\u001b[1;32m    235\u001b[0m             \u001b[38;5;241m-\u001b[39m \u001b[38;5;241m2\u001b[39m \u001b[38;5;241m*\u001b[39m P_phase_delta_phi(f, \u001b[38;5;241m*\u001b[39m\u001b[38;5;241m*\u001b[39mkwargs)\n\u001b[1;32m    236\u001b[0m         )\n\u001b[1;32m    237\u001b[0m     )\n\u001b[1;32m    238\u001b[0m     \u001b[38;5;28;01mif\u001b[39;00m frequencySeries:\n\u001b[1;32m    239\u001b[0m         \u001b[38;5;28;01mreturn\u001b[39;00m FrequencySeries(strain, delta_f)\n",
      "File \u001b[0;32m~/Documents/TEXAS_Bridge_2324/code/lensing_and_precession/notebooks/../modules/Precessing.py:144\u001b[0m, in \u001b[0;36mP_amplitude\u001b[0;34m(f, **kwargs)\u001b[0m\n\u001b[1;32m    142\u001b[0m \u001b[38;5;28;01mdef\u001b[39;00m \u001b[38;5;21mP_amplitude\u001b[39m(f, \u001b[38;5;241m*\u001b[39m\u001b[38;5;241m*\u001b[39mkwargs) \u001b[38;5;241m-\u001b[39m\u001b[38;5;241m>\u001b[39m np\u001b[38;5;241m.\u001b[39mndarray:\n\u001b[1;32m    143\u001b[0m \u001b[38;5;250m    \u001b[39m\u001b[38;5;124;03m\"\"\"NP/Unlensed amplitude\"\"\"\u001b[39;00m\n\u001b[0;32m--> 144\u001b[0m     LdotN \u001b[38;5;241m=\u001b[39m \u001b[43mP_LdotN\u001b[49m\u001b[43m(\u001b[49m\u001b[43mf\u001b[49m\u001b[43m,\u001b[49m\u001b[43m \u001b[49m\u001b[38;5;241;43m*\u001b[39;49m\u001b[38;5;241;43m*\u001b[39;49m\u001b[43mkwargs\u001b[49m\u001b[43m)\u001b[49m\n\u001b[1;32m    145\u001b[0m     C_amp, sin_2pa, cos_2pa \u001b[38;5;241m=\u001b[39m P_polarization_amplitude_and_phase(f, \u001b[38;5;241m*\u001b[39m\u001b[38;5;241m*\u001b[39mkwargs)\n\u001b[1;32m    147\u001b[0m     amp \u001b[38;5;241m=\u001b[39m (\n\u001b[1;32m    148\u001b[0m         P_amp_prefactor(\u001b[38;5;241m*\u001b[39m\u001b[38;5;241m*\u001b[39mkwargs)\n\u001b[1;32m    149\u001b[0m         \u001b[38;5;241m*\u001b[39m C_amp\n\u001b[1;32m    150\u001b[0m         \u001b[38;5;241m*\u001b[39m f \u001b[38;5;241m*\u001b[39m\u001b[38;5;241m*\u001b[39m (\u001b[38;5;241m-\u001b[39m\u001b[38;5;241m7\u001b[39m \u001b[38;5;241m/\u001b[39m \u001b[38;5;241m6\u001b[39m)\n\u001b[1;32m    151\u001b[0m         \u001b[38;5;241m*\u001b[39m np\u001b[38;5;241m.\u001b[39msqrt(\u001b[38;5;241m4\u001b[39m \u001b[38;5;241m*\u001b[39m LdotN\u001b[38;5;241m*\u001b[39m\u001b[38;5;241m*\u001b[39m\u001b[38;5;241m2\u001b[39m \u001b[38;5;241m*\u001b[39m sin_2pa\u001b[38;5;241m*\u001b[39m\u001b[38;5;241m*\u001b[39m\u001b[38;5;241m2\u001b[39m \u001b[38;5;241m+\u001b[39m cos_2pa\u001b[38;5;241m*\u001b[39m\u001b[38;5;241m*\u001b[39m\u001b[38;5;241m2\u001b[39m \u001b[38;5;241m*\u001b[39m (\u001b[38;5;241m1\u001b[39m \u001b[38;5;241m+\u001b[39m LdotN\u001b[38;5;241m*\u001b[39m\u001b[38;5;241m*\u001b[39m\u001b[38;5;241m2\u001b[39m) \u001b[38;5;241m*\u001b[39m\u001b[38;5;241m*\u001b[39m \u001b[38;5;241m2\u001b[39m)\n\u001b[1;32m    152\u001b[0m     )\n",
      "File \u001b[0;32m~/Documents/TEXAS_Bridge_2324/code/lensing_and_precession/notebooks/../modules/Precessing.py:84\u001b[0m, in \u001b[0;36mP_LdotN\u001b[0;34m(f, **kwargs)\u001b[0m\n\u001b[1;32m     81\u001b[0m \u001b[38;5;28;01mdef\u001b[39;00m \u001b[38;5;21mP_LdotN\u001b[39m(f, \u001b[38;5;241m*\u001b[39m\u001b[38;5;241m*\u001b[39mkwargs):\n\u001b[1;32m     82\u001b[0m     cos_i_JN, sin_i_JN, cos_o_XH, sin_o_XH \u001b[38;5;241m=\u001b[39m P_precession_angles(\u001b[38;5;241m*\u001b[39m\u001b[38;5;241m*\u001b[39mkwargs)\n\u001b[1;32m     83\u001b[0m     LdotN \u001b[38;5;241m=\u001b[39m (\n\u001b[0;32m---> 84\u001b[0m         np\u001b[38;5;241m.\u001b[39msin(\u001b[43mP_theta_LJ\u001b[49m\u001b[43m(\u001b[49m\u001b[43mf\u001b[49m\u001b[43m,\u001b[49m\u001b[43m \u001b[49m\u001b[38;5;241;43m*\u001b[39;49m\u001b[38;5;241;43m*\u001b[39;49m\u001b[43mkwargs\u001b[49m\u001b[43m)\u001b[49m) \u001b[38;5;241m*\u001b[39m sin_i_JN \u001b[38;5;241m*\u001b[39m np\u001b[38;5;241m.\u001b[39msin(P_phi_LJ(f, \u001b[38;5;241m*\u001b[39m\u001b[38;5;241m*\u001b[39mkwargs))\n\u001b[1;32m     85\u001b[0m         \u001b[38;5;241m+\u001b[39m np\u001b[38;5;241m.\u001b[39mcos(P_theta_LJ(f, \u001b[38;5;241m*\u001b[39m\u001b[38;5;241m*\u001b[39mkwargs)) \u001b[38;5;241m*\u001b[39m cos_i_JN\n\u001b[1;32m     86\u001b[0m     )\n\u001b[1;32m     87\u001b[0m     \u001b[38;5;28;01mreturn\u001b[39;00m LdotN\n",
      "File \u001b[0;32m~/Documents/TEXAS_Bridge_2324/code/lensing_and_precession/notebooks/../modules/Precessing.py:27\u001b[0m, in \u001b[0;36mP_theta_LJ\u001b[0;34m(f, theta_tilde, **kwargs)\u001b[0m\n\u001b[1;32m     25\u001b[0m \u001b[38;5;28;01mdef\u001b[39;00m \u001b[38;5;21mP_theta_LJ\u001b[39m(f, theta_tilde\u001b[38;5;241m=\u001b[39m\u001b[38;5;241m4.0\u001b[39m, \u001b[38;5;241m*\u001b[39m\u001b[38;5;241m*\u001b[39mkwargs):\n\u001b[1;32m     26\u001b[0m \u001b[38;5;250m    \u001b[39m\u001b[38;5;124;03m\"\"\"theta_LJ_new\"\"\"\u001b[39;00m\n\u001b[0;32m---> 27\u001b[0m     \u001b[38;5;28;01mreturn\u001b[39;00m \u001b[38;5;241;43m0.1\u001b[39;49m\u001b[43m \u001b[49m\u001b[38;5;241;43m*\u001b[39;49m\u001b[43m \u001b[49m\u001b[43mtheta_tilde\u001b[49m\u001b[43m \u001b[49m\u001b[38;5;241;43m*\u001b[39;49m\u001b[43m \u001b[49m\u001b[43m(\u001b[49m\u001b[43mf\u001b[49m\u001b[43m \u001b[49m\u001b[38;5;241;43m/\u001b[39;49m\u001b[43m \u001b[49m\u001b[43mP_f_cut\u001b[49m\u001b[43m(\u001b[49m\u001b[38;5;241;43m*\u001b[39;49m\u001b[38;5;241;43m*\u001b[39;49m\u001b[43mkwargs\u001b[49m\u001b[43m)\u001b[49m\u001b[43m)\u001b[49m\u001b[43m \u001b[49m\u001b[38;5;241;43m*\u001b[39;49m\u001b[38;5;241;43m*\u001b[39;49m\u001b[43m \u001b[49m\u001b[43m(\u001b[49m\u001b[38;5;241;43m1\u001b[39;49m\u001b[43m \u001b[49m\u001b[38;5;241;43m/\u001b[39;49m\u001b[43m \u001b[49m\u001b[38;5;241;43m3\u001b[39;49m\u001b[43m)\u001b[49m\n",
      "\u001b[0;31mValueError\u001b[0m: operands could not be broadcast together with shapes (4,) (1,303) "
     ]
    }
   ],
   "source": [
    "get_gw_vec(**RP_params)"
   ]
  }
 ],
 "metadata": {
  "kernelspec": {
   "display_name": "Python 3",
   "language": "python",
   "name": "python3"
  },
  "language_info": {
   "codemirror_mode": {
    "name": "ipython",
    "version": 3
   },
   "file_extension": ".py",
   "mimetype": "text/x-python",
   "name": "python",
   "nbconvert_exporter": "python",
   "pygments_lexer": "ipython3",
   "version": "3.9.13"
  }
 },
 "nbformat": 4,
 "nbformat_minor": 2
}
