{
 "cells": [
  {
   "cell_type": "code",
   "execution_count": 1,
   "metadata": {},
   "outputs": [],
   "source": [
    "import sys\n",
    "\n",
    "sys.path.insert(0, \"../\")\n",
    "from modules.functions_ver2 import *\n",
    "from modules.functions_vec import *\n",
    "import matplotlib.pyplot as plt"
   ]
  },
  {
   "cell_type": "markdown",
   "metadata": {},
   "source": [
    "# Test `functions_vec.py` module"
   ]
  },
  {
   "cell_type": "code",
   "execution_count": 35,
   "metadata": {},
   "outputs": [
    {
     "name": "stdout",
     "output_type": "stream",
     "text": [
      "Shape of array1 before: (3,) with dimension: 1\n",
      "Shape of array2 before: (1, 6) with dimension: 2\n",
      "Shape of array3 before: (6,) with dimension: 1\n",
      "Shape of array1 after: (3, 1) with dimension: 2\n",
      "Shape of array2 after: (3, 6) with dimension: 2\n",
      "Shape of array3 after: (6,) with dimension: 1\n",
      "array1:\n",
      " [[2.]\n",
      " [2.]\n",
      " [2.]]\n",
      "array2:\n",
      " [[6 8 0 2 4 2]\n",
      " [6 8 0 2 4 2]\n",
      " [6 8 0 2 4 2]]\n",
      "array3:\n",
      " [3. 3. 3. 3. 3. 3.]\n",
      "result1:\n",
      " [[12. 16.  0.  4.  8.  4.]\n",
      " [12. 16.  0.  4.  8.  4.]\n",
      " [12. 16.  0.  4.  8.  4.]]\n",
      "result2:\n",
      " [[18. 24.  0.  6. 12.  6.]\n",
      " [18. 24.  0.  6. 12.  6.]\n",
      " [18. 24.  0.  6. 12.  6.]]\n",
      "3 3\n",
      "result: [12. 16.  0.  4.  8.  4.]\n",
      "result: [12. 16.  0.  4.  8.  4.]\n",
      "result: [12. 16.  0.  4.  8.  4.]\n"
     ]
    }
   ],
   "source": [
    "# Example arrays (replace with actual arrays from your function)\n",
    "array1 = np.ones((3,)) * 2\n",
    "array2 = np.random.randint(0, 10, (1, 6))\n",
    "array3 = np.ones((6,)) * 3\n",
    "print(\"Shape of array1 before:\", array1.shape, \"with dimension:\", array1.ndim)\n",
    "print(\"Shape of array2 before:\", array2.shape, \"with dimension:\", array2.ndim)\n",
    "print(\"Shape of array3 before:\", array3.shape, \"with dimension:\", array3.ndim)\n",
    "\n",
    "# Make array1 2D\n",
    "array1 = array1[:, np.newaxis]\n",
    "# Adjust the shape of array2 to match array1\n",
    "array2 = np.tile(array2, array1.shape)\n",
    "\n",
    "# Print shapes\n",
    "print(\"Shape of array1 after:\", array1.shape, \"with dimension:\", array1.ndim)\n",
    "print(\"Shape of array2 after:\", array2.shape, \"with dimension:\", array2.ndim)\n",
    "print(\"Shape of array3 after:\", array3.shape, \"with dimension:\", array3.ndim)\n",
    "print(\"array1:\\n\", array1)\n",
    "print(\"array2:\\n\", array2)\n",
    "print(\"array3:\\n\", array3)\n",
    "\n",
    "# Calculate the dot product\n",
    "result1 = array1 * array2\n",
    "print(\"result1:\\n\", result1)\n",
    "result2 = array2 * array3\n",
    "print(\"result2:\\n\", result2)\n",
    "\n",
    "print(len(result1), result1.shape[0])\n",
    "for result in result1:\n",
    "    print(\"result:\", result)"
   ]
  },
  {
   "cell_type": "markdown",
   "metadata": {},
   "source": [
    "## `functions_Lensing.py` module"
   ]
  },
  {
   "cell_type": "code",
   "execution_count": 14,
   "metadata": {},
   "outputs": [],
   "source": [
    "lens_params = {\n",
    "    \"theta_S\": np.pi / 4,\n",
    "    \"phi_S\": 0,\n",
    "    \"theta_J\": 8 * np.pi / 9,\n",
    "    \"phi_J\": np.pi / 4,\n",
    "    \"mcz\": 20 * solar_mass,\n",
    "    \"dist\": 1.5 * giga_parsec,\n",
    "    \"eta\": 0.25,\n",
    "    \"t_c\": 0.0,\n",
    "    \"phi_c\": 0.0,\n",
    "    \"y\": np.array([0.25, 0.5, 1.0]),\n",
    "    \"MLz\": np.array([1e3 * solar_mass, 2e3 * solar_mass, 5e2 * solar_mass]),\n",
    "}"
   ]
  },
  {
   "cell_type": "code",
   "execution_count": 15,
   "metadata": {},
   "outputs": [
    {
     "data": {
      "text/plain": [
       "(0.8433662391607731, 0)"
      ]
     },
     "execution_count": 15,
     "metadata": {},
     "output_type": "execute_result"
    }
   ],
   "source": [
    "delta_f = 0.25\n",
    "f_arr = np.arange(20, L_f_cut(**lens_params), delta_f)\n",
    "h_L_vec = L_strain(f_arr, **lens_params)\n",
    "match(h_L_vec[0], h_L_vec[1])"
   ]
  },
  {
   "cell_type": "code",
   "execution_count": 16,
   "metadata": {},
   "outputs": [
    {
     "name": "stdout",
     "output_type": "stream",
     "text": [
      "0\n",
      "1\n",
      "2\n",
      "(2, 303)\n"
     ]
    }
   ],
   "source": [
    "delta_f = 0.25\n",
    "hL = L_hI(f_arr, **lens_params) * L_F(f_arr, **lens_params)\n",
    "\n",
    "if hL.ndim == 2:\n",
    "    for i in range(hL.shape[0]):\n",
    "        print(i)\n",
    "        hL[i] = FrequencySeries(hL[i], delta_f)\n",
    "else:\n",
    "    FrequencySeries(hL, delta_f)\n",
    "\n",
    "[FrequencySeries(hL[1], delta_f), FrequencySeries(hL[2], delta_f)]\n",
    "np.array([FrequencySeries(hL[1], delta_f), FrequencySeries(hL[2], delta_f)])\n",
    "\n",
    "FrequencySeries([hL[1], hL[2]], delta_f)\n",
    "print(FrequencySeries([hL[1], hL[2]], delta_f).shape)"
   ]
  },
  {
   "cell_type": "markdown",
   "metadata": {},
   "source": [
    "## `functions_Precessing.py` module"
   ]
  },
  {
   "cell_type": "code",
   "execution_count": 2,
   "metadata": {},
   "outputs": [],
   "source": [
    "RP_params = {\n",
    "    \"theta_S\": np.pi / 4,\n",
    "    \"phi_S\": 0,\n",
    "    \"theta_J\": 8 * np.pi / 9,\n",
    "    \"phi_J\": np.pi / 4,\n",
    "    \"mcz\": 20 * solar_mass,\n",
    "    \"dist\": 1.5 * giga_parsec,\n",
    "    \"eta\": 0.25,\n",
    "    \"t_c\": 0.0,\n",
    "    \"phi_c\": 0.0,\n",
    "    \"theta_tilde\": np.array([0, 1, 4, 8]),\n",
    "    \"omega_tilde\": np.array([0, 1, 2, 3]),\n",
    "    \"gamma_P\": 0.0,\n",
    "}"
   ]
  },
  {
   "cell_type": "code",
   "execution_count": 3,
   "metadata": {},
   "outputs": [
    {
     "ename": "TypeError",
     "evalue": "odeint() got an unexpected keyword argument 'theta_S'",
     "output_type": "error",
     "traceback": [
      "\u001b[0;31m---------------------------------------------------------------------------\u001b[0m",
      "\u001b[0;31mTypeError\u001b[0m                                 Traceback (most recent call last)",
      "Cell \u001b[0;32mIn[3], line 1\u001b[0m\n\u001b[0;32m----> 1\u001b[0m \u001b[43mget_gw_vec\u001b[49m\u001b[43m(\u001b[49m\u001b[38;5;241;43m*\u001b[39;49m\u001b[38;5;241;43m*\u001b[39;49m\u001b[43mRP_params\u001b[49m\u001b[43m)\u001b[49m\n",
      "File \u001b[0;32m~/Documents/TEXAS_Bridge_2324/code/lensing_and_precession/notebooks/../modules/functions_vec.py:32\u001b[0m, in \u001b[0;36mget_gw_vec\u001b[0;34m(f_min, delta_f, **kwargs)\u001b[0m\n\u001b[1;32m     30\u001b[0m     f_cut_arr \u001b[38;5;241m=\u001b[39m np\u001b[38;5;241m.\u001b[39marray([P_f_cut(\u001b[38;5;241m*\u001b[39m\u001b[38;5;241m*\u001b[39mkwargs)])\n\u001b[1;32m     31\u001b[0m     f_arr_arr \u001b[38;5;241m=\u001b[39m np\u001b[38;5;241m.\u001b[39marray([np\u001b[38;5;241m.\u001b[39marange(f_min, f_cut, delta_f) \u001b[38;5;28;01mfor\u001b[39;00m f_cut \u001b[38;5;129;01min\u001b[39;00m f_cut_arr])\n\u001b[0;32m---> 32\u001b[0m     strain_arr \u001b[38;5;241m=\u001b[39m \u001b[43mP_strain\u001b[49m\u001b[43m(\u001b[49m\u001b[43mf_arr_arr\u001b[49m\u001b[43m,\u001b[49m\u001b[43m \u001b[49m\u001b[38;5;241;43m*\u001b[39;49m\u001b[38;5;241;43m*\u001b[39;49m\u001b[43mkwargs\u001b[49m\u001b[43m)\u001b[49m\n\u001b[1;32m     33\u001b[0m \u001b[38;5;28;01mreturn\u001b[39;00m {\u001b[38;5;124m\"\u001b[39m\u001b[38;5;124mf_array\u001b[39m\u001b[38;5;124m\"\u001b[39m: f_arr_arr, \u001b[38;5;124m\"\u001b[39m\u001b[38;5;124mstrain\u001b[39m\u001b[38;5;124m\"\u001b[39m: strain_arr}\n",
      "File \u001b[0;32m~/Documents/TEXAS_Bridge_2324/code/lensing_and_precession/notebooks/../modules/functions_Precessing.py:239\u001b[0m, in \u001b[0;36mP_strain\u001b[0;34m(f, delta_f, frequencySeries, **kwargs)\u001b[0m\n\u001b[1;32m    232\u001b[0m \u001b[38;5;28;01mdef\u001b[39;00m \u001b[38;5;21mP_strain\u001b[39m(f, delta_f\u001b[38;5;241m=\u001b[39m\u001b[38;5;241m0.25\u001b[39m, frequencySeries\u001b[38;5;241m=\u001b[39m\u001b[38;5;28;01mTrue\u001b[39;00m, \u001b[38;5;241m*\u001b[39m\u001b[38;5;241m*\u001b[39mkwargs):\n\u001b[1;32m    233\u001b[0m \u001b[38;5;250m    \u001b[39m\u001b[38;5;124;03m\"\"\"precessing GW\"\"\"\u001b[39;00m\n\u001b[1;32m    234\u001b[0m     strain \u001b[38;5;241m=\u001b[39m P_amplitude(f, \u001b[38;5;241m*\u001b[39m\u001b[38;5;241m*\u001b[39mkwargs) \u001b[38;5;241m*\u001b[39m np\u001b[38;5;241m.\u001b[39mexp(\n\u001b[1;32m    235\u001b[0m         \u001b[38;5;241m1\u001b[39mj\n\u001b[1;32m    236\u001b[0m         \u001b[38;5;241m*\u001b[39m (\n\u001b[1;32m    237\u001b[0m             P_Psi(f, \u001b[38;5;241m*\u001b[39m\u001b[38;5;241m*\u001b[39mkwargs)\n\u001b[1;32m    238\u001b[0m             \u001b[38;5;241m-\u001b[39m P_phase_phi_P(f, \u001b[38;5;241m*\u001b[39m\u001b[38;5;241m*\u001b[39mkwargs)\n\u001b[0;32m--> 239\u001b[0m             \u001b[38;5;241m-\u001b[39m \u001b[38;5;241m2\u001b[39m \u001b[38;5;241m*\u001b[39m \u001b[43mP_phase_delta_phi\u001b[49m\u001b[43m(\u001b[49m\u001b[43mf\u001b[49m\u001b[43m,\u001b[49m\u001b[43m \u001b[49m\u001b[38;5;241;43m*\u001b[39;49m\u001b[38;5;241;43m*\u001b[39;49m\u001b[43mkwargs\u001b[49m\u001b[43m)\u001b[49m\n\u001b[1;32m    240\u001b[0m         )\n\u001b[1;32m    241\u001b[0m     )\n\u001b[1;32m    242\u001b[0m     \u001b[38;5;28;01mif\u001b[39;00m frequencySeries:\n\u001b[1;32m    243\u001b[0m         \u001b[38;5;28;01mreturn\u001b[39;00m FrequencySeries(strain, delta_f)\n",
      "File \u001b[0;32m~/Documents/TEXAS_Bridge_2324/code/lensing_and_precession/notebooks/../modules/functions_Precessing.py:215\u001b[0m, in \u001b[0;36mP_phase_delta_phi\u001b[0;34m(f, **kwargs)\u001b[0m\n\u001b[1;32m    213\u001b[0m \u001b[38;5;28;01mdef\u001b[39;00m \u001b[38;5;21mP_phase_delta_phi\u001b[39m(f, \u001b[38;5;241m*\u001b[39m\u001b[38;5;241m*\u001b[39mkwargs):\n\u001b[1;32m    214\u001b[0m \u001b[38;5;250m    \u001b[39m\u001b[38;5;124;03m\"\"\"integrate the delta_phi integrand\"\"\"\u001b[39;00m\n\u001b[0;32m--> 215\u001b[0m     integral \u001b[38;5;241m=\u001b[39m \u001b[43modeint\u001b[49m\u001b[43m(\u001b[49m\u001b[43mP_integrand_delta_phi\u001b[49m\u001b[43m,\u001b[49m\u001b[43m \u001b[49m\u001b[38;5;241;43m0\u001b[39;49m\u001b[43m,\u001b[49m\u001b[43m \u001b[49m\u001b[43mf\u001b[49m\u001b[43m,\u001b[49m\u001b[43m \u001b[49m\u001b[38;5;241;43m*\u001b[39;49m\u001b[38;5;241;43m*\u001b[39;49m\u001b[43mkwargs\u001b[49m\u001b[43m)\u001b[49m\n\u001b[1;32m    216\u001b[0m     \u001b[38;5;28;01mreturn\u001b[39;00m np\u001b[38;5;241m.\u001b[39msqueeze(integral)\n",
      "\u001b[0;31mTypeError\u001b[0m: odeint() got an unexpected keyword argument 'theta_S'"
     ]
    }
   ],
   "source": [
    "get_gw_vec(**RP_params)"
   ]
  },
  {
   "cell_type": "markdown",
   "metadata": {},
   "source": [
    "# Leo's test"
   ]
  },
  {
   "cell_type": "code",
   "execution_count": 9,
   "metadata": {},
   "outputs": [
    {
     "name": "stdout",
     "output_type": "stream",
     "text": [
      "CPU times: user 1 µs, sys: 0 ns, total: 1 µs\n",
      "Wall time: 3.1 µs\n",
      "CPU times: user 139 µs, sys: 31 µs, total: 170 µs\n",
      "Wall time: 211 µs\n"
     ]
    }
   ],
   "source": [
    "RP_params[\"gamma_P\"] = 0.0\n",
    "RP_params_leo = RP_params.copy()\n",
    "%time RP_params_leo['gamma_P'] = gamma_arr\n",
    "%time RP_params_list = [{**RP_params, \"gamma_P\": gamma_P} for gamma_P in gamma_arr]"
   ]
  },
  {
   "cell_type": "markdown",
   "metadata": {},
   "source": [
    "# Examine `functions_ver2.py`'s `mismatch` and `optimize_mismatch_gammaP` functions"
   ]
  },
  {
   "cell_type": "code",
   "execution_count": 8,
   "metadata": {},
   "outputs": [
    {
     "name": "stdout",
     "output_type": "stream",
     "text": [
      "CPU times: user 805 ms, sys: 238 ms, total: 1.04 s\n",
      "Wall time: 1.16 s\n"
     ]
    }
   ],
   "source": [
    "lens_params, RP_params = set_to_params(lens_params_1, RP_params_1)\n",
    "gamma_arr = np.linspace(0, 2 * np.pi, 100)\n",
    "\n",
    "%time mismatch_dict = {gamma_P: mismatch({**RP_params, \"gamma_P\": gamma_P}, lens_params) for gamma_P in gamma_arr}"
   ]
  },
  {
   "cell_type": "code",
   "execution_count": 9,
   "metadata": {},
   "outputs": [
    {
     "name": "stdout",
     "output_type": "stream",
     "text": [
      "CPU times: user 769 ms, sys: 151 ms, total: 920 ms\n",
      "Wall time: 930 ms\n"
     ]
    },
    {
     "data": {
      "text/plain": [
       "array([{'mismatch': 0.262441889790057, 'index': 603.483963874185, 'phi': 0.20471574957999694},\n",
       "       {'mismatch': 0.26107239617949196, 'index': 603.4846157703176, 'phi': 0.1952017167778719},\n",
       "       {'mismatch': 0.2598617588050377, 'index': 603.4849862170942, 'phi': 0.1856461570762929},\n",
       "       {'mismatch': 0.2587305726290714, 'index': 603.4852145574827, 'phi': 0.1759063290546384},\n",
       "       {'mismatch': 0.2576043299411612, 'index': 603.4854318553922, 'phi': 0.16586290129073258},\n",
       "       {'mismatch': 0.25641513728754683, 'index': 603.4857584587845, 'phi': 0.15541952919467192},\n",
       "       {'mismatch': 0.2551030179326417, 'index': 603.4863025077959, 'phi': 0.14450338613167313},\n",
       "       {'mismatch': 0.2536166765615009, 'index': 603.4871585438357, 'phi': 0.1330662166889775},\n",
       "       {'mismatch': 0.25191380303127386, 'index': 603.4884067068291, 'phi': 0.12108045066470308},\n",
       "       {'mismatch': 0.24996111828424206, 'index': 603.490113011804, 'phi': 0.10854042745131573},\n",
       "       {'mismatch': 0.247733927194853, 'index': 603.4923291903575, 'phi': 0.09545850477405765},\n",
       "       {'mismatch': 0.2452155931299571, 'index': 603.4950933438797, 'phi': 0.08186261289170772},\n",
       "       {'mismatch': 0.24239678638378392, 'index': 603.4984318916672, 'phi': 0.06779510358271189},\n",
       "       {'mismatch': 0.23927450668541772, 'index': 603.5023592148711, 'phi': 0.053307472856361074},\n",
       "       {'mismatch': 0.23585137185501903, 'index': 603.5068801159465, 'phi': 0.03846020067563113},\n",
       "       {'mismatch': 0.23213466000251703, 'index': 603.5119908517964, 'phi': 0.02331812328132747},\n",
       "       {'mismatch': 0.22813560323980664, 'index': 603.5176799864222, 'phi': 0.007949967140519038},\n",
       "       {'mismatch': 0.2238687138567369, 'index': 603.523929663631, 'phi': -0.00757418226561393},\n",
       "       {'mismatch': 0.21935131256548512, 'index': -0.4692837025326058, 'phi': -0.023182930344613394},\n",
       "       {'mismatch': 0.21460311095044737, 'index': -0.4619890698573267, 'phi': -0.03880559024977398},\n",
       "       {'mismatch': 0.2096459422195579, 'index': -0.4542205661293043, 'phi': -0.0543710005362931},\n",
       "       {'mismatch': 0.204503624726475, 'index': -0.44601711555445417, 'phi': -0.06980752399049699},\n",
       "       {'mismatch': 0.19920182070042203, 'index': -0.4374226310185667, 'phi': -0.08504283101829876},\n",
       "       {'mismatch': 0.19376794193314328, 'index': -0.4284860550444472, 'phi': -0.10000371951350379},\n",
       "       {'mismatch': 0.18823111200382414, 'index': -0.41926128720821165, 'phi': -0.11461475288274182},\n",
       "       {'mismatch': 0.18262198938388696, 'index': -0.4098066292461657, 'phi': -0.12879879484551127},\n",
       "       {'mismatch': 0.17697282550703763, 'index': -0.4001851292998652, 'phi': -0.1424762971643045},\n",
       "       {'mismatch': 0.17131713771466506, 'index': -0.390462960002742, 'phi': -0.1555666189789497},\n",
       "       {'mismatch': 0.16568973120858954, 'index': -0.38070988925217275, 'phi': -0.1679870645464215},\n",
       "       {'mismatch': 0.16012649275783908, 'index': -0.3709981834428482, 'phi': -0.17965489748273525},\n",
       "       {'mismatch': 0.15466421970324196, 'index': -0.36140110546553733, 'phi': -0.1904867934970778},\n",
       "       {'mismatch': 0.149340566376038, 'index': -0.351992954142456, 'phi': -0.2004005497886815},\n",
       "       {'mismatch': 0.14419389932052085, 'index': -0.34284794360914234, 'phi': -0.20931469091355565},\n",
       "       {'mismatch': 0.13926327207484002, 'index': -0.3340393520213806, 'phi': -0.21714982034687108},\n",
       "       {'mismatch': 0.13458840315342457, 'index': -0.3256398475973114, 'phi': -0.22382828536922617},\n",
       "       {'mismatch': 0.13020974967019905, 'index': -0.31771965982767997, 'phi': -0.229274680036329},\n",
       "       {'mismatch': 0.12616855397758608, 'index': -0.31034798101134525, 'phi': -0.2334156877280249},\n",
       "       {'mismatch': 0.12250704453865535, 'index': -0.30359207255197895, 'phi': -0.2361792589673751},\n",
       "       {'mismatch': 0.11926863042687563, 'index': -0.2975176356027662, 'phi': -0.23749491744721316},\n",
       "       {'mismatch': 0.11649807818019908, 'index': -0.2921889793966605, 'phi': -0.23729251313470037},\n",
       "       {'mismatch': 0.11424181104141107, 'index': -0.2876699099354419, 'phi': -0.23550084204254088},\n",
       "       {'mismatch': 0.11254813422954091, 'index': -0.2840244340937543, 'phi': -0.23204843931933203},\n",
       "       {'mismatch': 0.1114673899541977, 'index': -0.2813168907876343, 'phi': -0.22686043543238643},\n",
       "       {'mismatch': 0.11105205397538054, 'index': -0.2796130175122928, 'phi': -0.21985953186707136},\n",
       "       {'mismatch': 0.11135677847192593, 'index': -0.2789821112691919, 'phi': -0.21096324273280886},\n",
       "       {'mismatch': 0.11243806346725249, 'index': -0.27949568962248406, 'phi': -0.20008406897400846},\n",
       "       {'mismatch': 0.11435379476025698, 'index': -0.2812304164793219, 'phi': -0.18712955097589803},\n",
       "       {'mismatch': 0.11716239769093684, 'index': -0.28426794016716384, 'phi': -0.17200104747206357},\n",
       "       {'mismatch': 0.12092171636408366, 'index': -0.28869558044567406, 'phi': -0.15459185225984037},\n",
       "       {'mismatch': 0.12568702898592188, 'index': -0.2946068493369967, 'phi': -0.1347919505674394},\n",
       "       {'mismatch': 0.1315091150061788, 'index': -0.3021015649748084, 'phi': -0.11248590314804784},\n",
       "       {'mismatch': 0.13843116147743595, 'index': -0.3112837763661102, 'phi': -0.08755845256557844},\n",
       "       {'mismatch': 0.1464855473352541, 'index': -0.3222615314368078, 'phi': -0.05989558025049986},\n",
       "       {'mismatch': 0.15568999567935315, 'index': -0.33514214780008356, 'phi': -0.02939176806571328},\n",
       "       {'mismatch': 0.1660431291808112, 'index': -0.35002914055549955, 'phi': 0.004041462041201888},\n",
       "       {'mismatch': 0.17752038480174948, 'index': -0.3670140833952846, 'phi': 0.040467551592700414},\n",
       "       {'mismatch': 0.19006943674043764, 'index': -0.3861686225576407, 'phi': 0.079908391625751},\n",
       "       {'mismatch': 0.20360688383373537, 'index': -0.4075323166029336, 'phi': 0.12233231132340161},\n",
       "       {'mismatch': 0.21801515279879236, 'index': -0.43110049863508737, 'phi': 0.16763176763660909},\n",
       "       {'mismatch': 0.2331415808715278, 'index': -0.45680715536881816, 'phi': 0.21560580831181644},\n",
       "       {'mismatch': 0.2487990994670668, 'index': 603.5154901386672, 'phi': 0.26593777530923846},\n",
       "       {'mismatch': 0.26476922003214354, 'index': 603.4860258409599, 'phi': 0.31817751873348094},\n",
       "       {'mismatch': 0.28080772978957314, 'index': 603.4551389752189, 'phi': 0.3717254326612938},\n",
       "       {'mismatch': 0.2966525689260441, 'index': 603.4232808199323, 'phi': 0.42582571470534875},\n",
       "       {'mismatch': 0.3120336766550885, 'index': 603.3910154238163, 'phi': 0.4795661395860229},\n",
       "       {'mismatch': 0.3266842888195345, 'index': 603.3590099902593, 'phi': 0.5318930900911341},\n",
       "       {'mismatch': 0.34035234923190516, 'index': 603.3280168715719, 'phi': 0.5816384455536675},\n",
       "       {'mismatch': 0.35281076352674523, 'index': 603.298841680972, 'phi': 0.6275617432062189},\n",
       "       {'mismatch': 0.36386662607864184, 'index': 603.2723017270824, 'phi': 0.6684141642895381},\n",
       "       {'mismatch': 0.3733669992372818, 'index': 603.2491752903765, 'phi': 0.7030132808203355},\n",
       "       {'mismatch': 0.38120228746590146, 'index': 603.2301438056966, 'phi': 0.7303340400646712},\n",
       "       {'mismatch': 0.3873067189431938, 'index': 603.2157345603073, 'phi': 0.7496046520770843},\n",
       "       {'mismatch': 0.39165664805661005, 'index': 603.2062723195346, 'phi': 0.7603883985706298},\n",
       "       {'mismatch': 0.3942671905038777, 'index': 603.2018504770875, 'phi': 0.762637545664286},\n",
       "       {'mismatch': 0.3951886915760199, 'index': 603.2023247945771, 'phi': 0.7567075517166942},\n",
       "       {'mismatch': 0.39450238870424836, 'index': 603.2073385183746, 'phi': 0.7433154433866471},\n",
       "       {'mismatch': 0.3923164860974707, 'index': 603.2163669272869, 'phi': 0.7234608872766167},\n",
       "       {'mismatch': 0.3887624615410912, 'index': 603.2287730721811, 'phi': 0.698322602292772},\n",
       "       {'mismatch': 0.38399077959352945, 'index': 603.2438678915464, 'phi': 0.6691504747505648},\n",
       "       {'mismatch': 0.3781669856665122, 'index': 603.2609580638413, 'phi': 0.6371720546298826},\n",
       "       {'mismatch': 0.3714672819666456, 'index': 603.2793846853913, 'phi': 0.6035237725943964},\n",
       "       {'mismatch': 0.364074022334285, 'index': 603.2985482628367, 'phi': 0.5692042095274334},\n",
       "       {'mismatch': 0.35617113759228336, 'index': 603.3179225674855, 'phi': 0.5350525163761305},\n",
       "       {'mismatch': 0.34793978839215844, 'index': 603.3370598352789, 'phi': 0.5017434055612312},\n",
       "       {'mismatch': 0.33955427932133764, 'index': 603.3555909014054, 'phi': 0.4697948482342794},\n",
       "       {'mismatch': 0.3311781008020116, 'index': 603.3732206401615, 'phi': 0.43957845444596455},\n",
       "       {'mismatch': 0.32296072471520265, 'index': 603.3897227630872, 'phi': 0.4113403298310627},\n",
       "       {'mismatch': 0.31503467176955713, 'index': 603.4049328933091, 'phi': 0.38521722695575333},\n",
       "       {'mismatch': 0.3075131914128092, 'index': 603.4187413785738, 'phi': 0.36125564479738714},\n",
       "       {'mismatch': 0.3004884769233255, 'index': 603.4310870353304, 'phi': 0.33942816988801316},\n",
       "       {'mismatch': 0.29403054151502284, 'index': 603.4419503408983, 'phi': 0.3196486219852636},\n",
       "       {'mismatch': 0.28818670989572015, 'index': 603.4513480513451, 'phi': 0.3017856091188303},\n",
       "       {'mismatch': 0.28298172724746473, 'index': 603.4593280263855, 'phi': 0.2856727103320578},\n",
       "       {'mismatch': 0.27841865004606225, 'index': 603.4659640754071, 'phi': 0.27112001961546867},\n",
       "       {'mismatch': 0.274480323122267, 'index': 603.4713520252441, 'phi': 0.25792113407975076},\n",
       "       {'mismatch': 0.27113140953367243, 'index': 603.4756056158225, 'phi': 0.24586109081222163},\n",
       "       {'mismatch': 0.2683210094920765, 'index': 603.4788523871617, 'phi': 0.23472139451172552},\n",
       "       {'mismatch': 0.26598560808413174, 'index': 603.4812305115192, 'phi': 0.22428723960539368},\n",
       "       {'mismatch': 0.2640522725547467, 'index': 603.4828848651903, 'phi': 0.21435061938925132},\n",
       "       {'mismatch': 0.2624418897900591, 'index': 603.483963874185, 'phi': 0.20471574958011865}],\n",
       "      dtype=object)"
      ]
     },
     "execution_count": 9,
     "metadata": {},
     "output_type": "execute_result"
    }
   ],
   "source": [
    "lens_params, RP_params = set_to_params(lens_params_1, RP_params_1)\n",
    "gamma_arr = np.linspace(0, 2 * np.pi, 100)\n",
    "\n",
    "mismatch_vec = np.vectorize(mismatch)\n",
    "RP_params_list = [{**RP_params, \"gamma_P\": gamma_P} for gamma_P in gamma_arr]\n",
    "%time mismatch_vec(RP_params_list, lens_params)"
   ]
  },
  {
   "cell_type": "code",
   "execution_count": 4,
   "metadata": {},
   "outputs": [
    {
     "name": "stdout",
     "output_type": "stream",
     "text": [
      "1.54 s ± 17.6 ms per loop (mean ± std. dev. of 7 runs, 1 loop each)\n",
      "974 ms ± 59.5 ms per loop (mean ± std. dev. of 7 runs, 1 loop each)\n",
      "427 ms ± 3.78 ms per loop (mean ± std. dev. of 7 runs, 1 loop each)\n"
     ]
    }
   ],
   "source": [
    "lens_params[\"mcz\"] = RP_params[\"mcz\"] = 10 * solar_mass\n",
    "%timeit optimize_mismatch_gammaP(RP_params, lens_params)\n",
    "\n",
    "lens_params[\"mcz\"] = RP_params[\"mcz\"] = 20 * solar_mass\n",
    "%timeit optimize_mismatch_gammaP(RP_params, lens_params)\n",
    "\n",
    "lens_params[\"mcz\"] = RP_params[\"mcz\"] = 60 * solar_mass\n",
    "%timeit optimize_mismatch_gammaP(RP_params, lens_params)"
   ]
  },
  {
   "cell_type": "code",
   "execution_count": 9,
   "metadata": {},
   "outputs": [
    {
     "name": "stdout",
     "output_type": "stream",
     "text": [
      "929 ms ± 14.1 ms per loop (mean ± std. dev. of 7 runs, 1 loop each)\n",
      "31 µs ± 5.26 µs per loop (mean ± std. dev. of 7 runs, 10,000 loops each)\n",
      "1.03 s ± 80.5 ms per loop (mean ± std. dev. of 7 runs, 1 loop each)\n"
     ]
    }
   ],
   "source": [
    "lens_params[\"mcz\"] = RP_params[\"mcz\"] = 20 * solar_mass\n",
    "\n",
    "%timeit [mismatch({**RP_params, \"gamma_P\": gamma_P}, lens_params) for gamma_P in gamma_arr]\n",
    "\n",
    "mismatch_vec = np.vectorize(mismatch)\n",
    "%timeit RP_params_list = [{**RP_params, \"gamma_P\": gamma_P} for gamma_P in gamma_arr]\n",
    "%timeit mismatch_vec(RP_params_list, lens_params)"
   ]
  },
  {
   "cell_type": "code",
   "execution_count": 10,
   "metadata": {},
   "outputs": [
    {
     "name": "stdout",
     "output_type": "stream",
     "text": [
      "921 ms ± 19.4 ms per loop (mean ± std. dev. of 7 runs, 1 loop each)\n"
     ]
    }
   ],
   "source": [
    "%%timeit\n",
    "RP_params_list = [{**RP_params, \"gamma_P\": gamma_P} for gamma_P in gamma_arr]\n",
    "mismatch_vec(RP_params_list, lens_params)"
   ]
  },
  {
   "cell_type": "code",
   "execution_count": 10,
   "metadata": {},
   "outputs": [
    {
     "name": "stdout",
     "output_type": "stream",
     "text": [
      "433 µs ± 62 µs per loop (mean ± std. dev. of 7 runs, 1,000 loops each)\n",
      "5.77 ms ± 360 µs per loop (mean ± std. dev. of 7 runs, 100 loops each)\n",
      "469 µs ± 52.2 µs per loop (mean ± std. dev. of 7 runs, 1,000 loops each)\n",
      "5.86 ms ± 29.8 µs per loop (mean ± std. dev. of 7 runs, 100 loops each)\n",
      "1.48 ms ± 32.1 µs per loop (mean ± std. dev. of 7 runs, 1,000 loops each)\n",
      "1.02 ms ± 5.53 µs per loop (mean ± std. dev. of 7 runs, 1,000 loops each)\n"
     ]
    }
   ],
   "source": [
    "# Dismantle and examine mismatch() in functions_ver2.py\n",
    "\n",
    "lens_params[\"mcz\"] = RP_params[\"mcz\"] = 20 * solar_mass\n",
    "\n",
    "h_L = get_gw(lens_params)[\"strain\"]\n",
    "h_RP = get_gw(RP_params)[\"strain\"]\n",
    "h_RP.resize(len(h_L))\n",
    "f_arr = get_gw(lens_params)[\"f_array\"]\n",
    "psd = Sn(f_arr)\n",
    "%timeit LensingGeo(lens_params).strain(f_arr)\n",
    "%timeit Precessing(RP_params).strain(f_arr)\n",
    "%timeit get_gw(lens_params)[\"strain\"]\n",
    "%timeit get_gw(RP_params)[\"strain\"]\n",
    "%timeit psd = Sn(f_arr)\n",
    "%timeit optimized_match(h_RP, h_L, psd, return_phase=True)  # type: ignore\n",
    "\n",
    "# Getting the strain for Precessing() objects is the most time-consuming part of the function mismatch()!!!"
   ]
  },
  {
   "cell_type": "code",
   "execution_count": 13,
   "metadata": {},
   "outputs": [
    {
     "name": "stdout",
     "output_type": "stream",
     "text": [
      "42.8 ms ± 1.86 ms per loop (mean ± std. dev. of 7 runs, 10 loops each)\n",
      "44.8 ms ± 1.21 ms per loop (mean ± std. dev. of 7 runs, 10 loops each)\n",
      "574 ms ± 9.19 ms per loop (mean ± std. dev. of 7 runs, 1 loop each)\n",
      "594 ms ± 42.6 ms per loop (mean ± std. dev. of 7 runs, 1 loop each)\n",
      "46.2 µs ± 279 ns per loop (mean ± std. dev. of 7 runs, 10,000 loops each)\n",
      "45.2 ms ± 1.33 ms per loop (mean ± std. dev. of 7 runs, 10 loops each)\n",
      "4.84 µs ± 47.5 ns per loop (mean ± std. dev. of 7 runs, 100,000 loops each)\n",
      "150 ms ± 5.45 ms per loop (mean ± std. dev. of 7 runs, 10 loops each)\n",
      "103 ms ± 1.6 ms per loop (mean ± std. dev. of 7 runs, 10 loops each)\n",
      "259 ms ± 12.6 ms per loop (mean ± std. dev. of 7 runs, 1 loop each)\n",
      "618 ms ± 5.91 ms per loop (mean ± std. dev. of 7 runs, 1 loop each)\n",
      "944 ms ± 22.1 ms per loop (mean ± std. dev. of 7 runs, 1 loop each)\n",
      "889 ms ± 16.6 ms per loop (mean ± std. dev. of 7 runs, 1 loop each)\n"
     ]
    }
   ],
   "source": [
    "# Dismantle and examine mismatch() in functions_ver2.py\n",
    "\n",
    "lens_params[\"mcz\"] = RP_params[\"mcz\"] = 20 * solar_mass\n",
    "\n",
    "gw_L = get_gw(lens_params)\n",
    "\n",
    "h_RP_arr = np.empty_like(gamma_arr, dtype=object)\n",
    "for i, gamma_P in enumerate(gamma_arr):\n",
    "    RP_params[\"gamma_P\"] = gamma_P\n",
    "    h_RP = get_gw(RP_params)[\"strain\"]\n",
    "    h_RP_arr[i] = h_RP\n",
    "\n",
    "%timeit [LensingGeo(lens_params).strain(f_arr) for gamma_P in gamma_arr]\n",
    "%timeit [get_gw(lens_params)[\"strain\"] for gamma_P in gamma_arr]\n",
    "%timeit [Precessing(RP_params).strain(f_arr) for gamma_P in gamma_arr]\n",
    "%timeit [get_gw(RP_params)[\"strain\"] for gamma_P in gamma_arr]\n",
    "%timeit [h_RP.resize(len(h_L)) for gamma_P in gamma_arr]\n",
    "%timeit [get_gw(lens_params)[\"f_array\"] for gamma_P in gamma_arr]\n",
    "%timeit [gw_L[\"f_array\"] for gamma_P in gamma_arr]  # Faster than the previous line\n",
    "%timeit [Sn(f_arr) for gamma_P in gamma_arr]\n",
    "%timeit [optimized_match(h_RP, h_L) for h_RP in h_RP_arr]\n",
    "%timeit [{\"psd\": Sn(f_arr), \"epsilon\": optimized_match(h_RP, h_L)} for h_RP in h_RP_arr]\n",
    "%timeit [{\"h_L\": get_gw(lens_params)[\"strain\"], \"h_RP\": get_gw(RP_params)[\"strain\"]} for gamma_P in gamma_arr]\n",
    "%timeit [{\"h_L\": get_gw(lens_params)[\"strain\"], \"h_RP\": get_gw(RP_params)[\"strain\"], \"resize\": h_RP.resize(len(h_L)), \"f_arr\": get_gw(lens_params)[\"f_array\"], \"psd\": Sn(f_arr), \"epsilon\": optimized_match(h_RP, h_L)} for h_RP in h_RP_arr]\n",
    "%timeit [{\"h_L\": get_gw(lens_params)[\"strain\"], \"h_RP\": get_gw(RP_params)[\"strain\"], \"resize\": h_RP.resize(len(h_L)), \"f_arr\": gw_L[\"f_array\"], \"psd\": Sn(f_arr), \"epsilon\": optimized_match(h_RP, h_L)} for h_RP in h_RP_arr]\n",
    "\n",
    "# Getting the strain for Precessing() objects is the most time-consuming part of the function mismatch()!!!"
   ]
  },
  {
   "cell_type": "markdown",
   "metadata": {},
   "source": [
    "# Examine `PyCBC`'s `match` and `optimized_match` functions"
   ]
  },
  {
   "cell_type": "code",
   "execution_count": 6,
   "metadata": {},
   "outputs": [
    {
     "ename": "TypeError",
     "evalue": "Can only convert a TimeSeries to a FrequencySeries",
     "output_type": "error",
     "traceback": [
      "\u001b[0;31m---------------------------------------------------------------------------\u001b[0m",
      "\u001b[0;31mTypeError\u001b[0m                                 Traceback (most recent call last)",
      "Cell \u001b[0;32mIn[6], line 3\u001b[0m\n\u001b[1;32m      1\u001b[0m h_L1 \u001b[38;5;241m=\u001b[39m get_gw(lens_params_0, frequencySeries\u001b[38;5;241m=\u001b[39m\u001b[38;5;28;01mFalse\u001b[39;00m)[\u001b[38;5;124m\"\u001b[39m\u001b[38;5;124mstrain\u001b[39m\u001b[38;5;124m\"\u001b[39m]\n\u001b[1;32m      2\u001b[0m h_RP1 \u001b[38;5;241m=\u001b[39m get_gw(RP_params_0, frequencySeries\u001b[38;5;241m=\u001b[39m\u001b[38;5;28;01mFalse\u001b[39;00m)[\u001b[38;5;124m\"\u001b[39m\u001b[38;5;124mstrain\u001b[39m\u001b[38;5;124m\"\u001b[39m]\n\u001b[0;32m----> 3\u001b[0m \u001b[38;5;28mprint\u001b[39m(\u001b[43moptimized_match\u001b[49m\u001b[43m(\u001b[49m\u001b[43mh_L1\u001b[49m\u001b[43m,\u001b[49m\u001b[43m \u001b[49m\u001b[43mh_RP1\u001b[49m\u001b[43m)\u001b[49m)\n\u001b[1;32m      4\u001b[0m \u001b[38;5;28mprint\u001b[39m(match(h_L1, h_RP1))\n",
      "File \u001b[0;32m/opt/homebrew/lib/python3.9/site-packages/pycbc/filter/matchedfilter.py:2025\u001b[0m, in \u001b[0;36moptimized_match\u001b[0;34m(vec1, vec2, psd, low_frequency_cutoff, high_frequency_cutoff, v1_norm, v2_norm, return_phase)\u001b[0m\n\u001b[1;32m   1986\u001b[0m \u001b[38;5;250m\u001b[39m\u001b[38;5;124;03m\"\"\"Given two waveforms (as numpy arrays),\u001b[39;00m\n\u001b[1;32m   1987\u001b[0m \u001b[38;5;124;03mcompute the optimized match between them, making use\u001b[39;00m\n\u001b[1;32m   1988\u001b[0m \u001b[38;5;124;03mof scipy.minimize_scalar.\u001b[39;00m\n\u001b[0;32m   (...)\u001b[0m\n\u001b[1;32m   2020\u001b[0m \u001b[38;5;124;03m    Phase to rotate complex waveform to get the match, if desired.\u001b[39;00m\n\u001b[1;32m   2021\u001b[0m \u001b[38;5;124;03m\"\"\"\u001b[39;00m\n\u001b[1;32m   2023\u001b[0m \u001b[38;5;28;01mfrom\u001b[39;00m \u001b[38;5;21;01mscipy\u001b[39;00m\u001b[38;5;21;01m.\u001b[39;00m\u001b[38;5;21;01moptimize\u001b[39;00m \u001b[38;5;28;01mimport\u001b[39;00m minimize_scalar\n\u001b[0;32m-> 2025\u001b[0m htilde \u001b[38;5;241m=\u001b[39m \u001b[43mmake_frequency_series\u001b[49m\u001b[43m(\u001b[49m\u001b[43mvec1\u001b[49m\u001b[43m)\u001b[49m\n\u001b[1;32m   2026\u001b[0m stilde \u001b[38;5;241m=\u001b[39m make_frequency_series(vec2)\n\u001b[1;32m   2028\u001b[0m \u001b[38;5;28;01massert\u001b[39;00m numpy\u001b[38;5;241m.\u001b[39misclose(htilde\u001b[38;5;241m.\u001b[39mdelta_f, stilde\u001b[38;5;241m.\u001b[39mdelta_f)\n",
      "File \u001b[0;32m/opt/homebrew/lib/python3.9/site-packages/pycbc/filter/matchedfilter.py:1019\u001b[0m, in \u001b[0;36mmake_frequency_series\u001b[0;34m(vec)\u001b[0m\n\u001b[1;32m   1017\u001b[0m     \u001b[38;5;28;01mreturn\u001b[39;00m vectilde\n\u001b[1;32m   1018\u001b[0m \u001b[38;5;28;01melse\u001b[39;00m:\n\u001b[0;32m-> 1019\u001b[0m     \u001b[38;5;28;01mraise\u001b[39;00m \u001b[38;5;167;01mTypeError\u001b[39;00m(\u001b[38;5;124m\"\u001b[39m\u001b[38;5;124mCan only convert a TimeSeries to a FrequencySeries\u001b[39m\u001b[38;5;124m\"\u001b[39m)\n",
      "\u001b[0;31mTypeError\u001b[0m: Can only convert a TimeSeries to a FrequencySeries"
     ]
    }
   ],
   "source": [
    "h_L1 = get_gw(lens_params_0, frequencySeries=False)[\"strain\"]\n",
    "h_RP1 = get_gw(RP_params_0, frequencySeries=False)[\"strain\"]\n",
    "print(optimized_match(h_L1, h_RP1))\n",
    "print(match(h_L1, h_RP1))\n",
    "\n",
    "# Both match() and optimized_match() take FrequencySeries or TimeSeries objects as input, not numpy arrays"
   ]
  },
  {
   "cell_type": "code",
   "execution_count": 10,
   "metadata": {},
   "outputs": [
    {
     "ename": "TypeError",
     "evalue": "Can only convert a TimeSeries to a FrequencySeries",
     "output_type": "error",
     "traceback": [
      "\u001b[0;31m---------------------------------------------------------------------------\u001b[0m",
      "\u001b[0;31mTypeError\u001b[0m                                 Traceback (most recent call last)",
      "Cell \u001b[0;32mIn[10], line 7\u001b[0m\n\u001b[1;32m      4\u001b[0m h_RP2 \u001b[38;5;241m=\u001b[39m get_gw(RP_params_1)[\u001b[38;5;124m\"\u001b[39m\u001b[38;5;124mstrain\u001b[39m\u001b[38;5;124m\"\u001b[39m]\n\u001b[1;32m      6\u001b[0m \u001b[38;5;66;03m# PyCBC's match() does not take more than 2 FrequencySeries objects in an argument, hence the error\u001b[39;00m\n\u001b[0;32m----> 7\u001b[0m \u001b[38;5;28;43;01mmatch\u001b[39;49;00m\u001b[43m(\u001b[49m\u001b[43m[\u001b[49m\u001b[43mh_L1\u001b[49m\u001b[43m,\u001b[49m\u001b[43m \u001b[49m\u001b[43mh_L2\u001b[49m\u001b[43m]\u001b[49m\u001b[43m,\u001b[49m\u001b[43m \u001b[49m\u001b[43m[\u001b[49m\u001b[43mh_RP1\u001b[49m\u001b[43m,\u001b[49m\u001b[43m \u001b[49m\u001b[43mh_RP2\u001b[49m\u001b[43m]\u001b[49m\u001b[43m)\u001b[49m\n",
      "File \u001b[0;32m/opt/homebrew/lib/python3.9/site-packages/pycbc/filter/matchedfilter.py:1382\u001b[0m, in \u001b[0;36mmatch\u001b[0;34m(vec1, vec2, psd, low_frequency_cutoff, high_frequency_cutoff, v1_norm, v2_norm, subsample_interpolation, return_phase)\u001b[0m\n\u001b[1;32m   1325\u001b[0m \u001b[38;5;28;01mdef\u001b[39;00m \u001b[38;5;21mmatch\u001b[39m(\n\u001b[1;32m   1326\u001b[0m     vec1,\n\u001b[1;32m   1327\u001b[0m     vec2,\n\u001b[0;32m   (...)\u001b[0m\n\u001b[1;32m   1334\u001b[0m     return_phase\u001b[38;5;241m=\u001b[39m\u001b[38;5;28;01mFalse\u001b[39;00m,\n\u001b[1;32m   1335\u001b[0m ):\n\u001b[1;32m   1336\u001b[0m \u001b[38;5;250m    \u001b[39m\u001b[38;5;124;03m\"\"\"Return the match between the two TimeSeries or FrequencySeries.\u001b[39;00m\n\u001b[1;32m   1337\u001b[0m \n\u001b[1;32m   1338\u001b[0m \u001b[38;5;124;03m    Return the match between two waveforms. This is equivalent to the overlap\u001b[39;00m\n\u001b[0;32m   (...)\u001b[0m\n\u001b[1;32m   1379\u001b[0m \u001b[38;5;124;03m        Phase to rotate complex waveform to get the match, if desired.\u001b[39;00m\n\u001b[1;32m   1380\u001b[0m \u001b[38;5;124;03m    \"\"\"\u001b[39;00m\n\u001b[0;32m-> 1382\u001b[0m     htilde \u001b[38;5;241m=\u001b[39m \u001b[43mmake_frequency_series\u001b[49m\u001b[43m(\u001b[49m\u001b[43mvec1\u001b[49m\u001b[43m)\u001b[49m\n\u001b[1;32m   1383\u001b[0m     stilde \u001b[38;5;241m=\u001b[39m make_frequency_series(vec2)\n\u001b[1;32m   1385\u001b[0m     N \u001b[38;5;241m=\u001b[39m (\u001b[38;5;28mlen\u001b[39m(htilde) \u001b[38;5;241m-\u001b[39m \u001b[38;5;241m1\u001b[39m) \u001b[38;5;241m*\u001b[39m \u001b[38;5;241m2\u001b[39m\n",
      "File \u001b[0;32m/opt/homebrew/lib/python3.9/site-packages/pycbc/filter/matchedfilter.py:1019\u001b[0m, in \u001b[0;36mmake_frequency_series\u001b[0;34m(vec)\u001b[0m\n\u001b[1;32m   1017\u001b[0m     \u001b[38;5;28;01mreturn\u001b[39;00m vectilde\n\u001b[1;32m   1018\u001b[0m \u001b[38;5;28;01melse\u001b[39;00m:\n\u001b[0;32m-> 1019\u001b[0m     \u001b[38;5;28;01mraise\u001b[39;00m \u001b[38;5;167;01mTypeError\u001b[39;00m(\u001b[38;5;124m\"\u001b[39m\u001b[38;5;124mCan only convert a TimeSeries to a FrequencySeries\u001b[39m\u001b[38;5;124m\"\u001b[39m)\n",
      "\u001b[0;31mTypeError\u001b[0m: Can only convert a TimeSeries to a FrequencySeries"
     ]
    }
   ],
   "source": [
    "h_L1 = get_gw(lens_params_0)[\"strain\"]\n",
    "h_L2 = get_gw(lens_params_1)[\"strain\"]\n",
    "h_RP1 = get_gw(RP_params_0)[\"strain\"]\n",
    "h_RP2 = get_gw(RP_params_1)[\"strain\"]\n",
    "\n",
    "# PyCBC's match() does not take more than 2 FrequencySeries objects in an argument, hence the error\n",
    "match([h_L1, h_L2], [h_RP1, h_RP2])"
   ]
  },
  {
   "cell_type": "code",
   "execution_count": 25,
   "metadata": {},
   "outputs": [
    {
     "name": "stdout",
     "output_type": "stream",
     "text": [
      "477 µs ± 20.5 µs per loop (mean ± std. dev. of 7 runs, 1,000 loops each)\n",
      "92.4 µs ± 9.54 µs per loop (mean ± std. dev. of 7 runs, 10,000 loops each)\n",
      "1.04 ms ± 50.1 µs per loop (mean ± std. dev. of 7 runs, 1,000 loops each)\n",
      "112 ms ± 7.55 ms per loop (mean ± std. dev. of 7 runs, 10 loops each)\n"
     ]
    }
   ],
   "source": [
    "# mcz = 20\n",
    "h_RP_arr = np.empty_like(gamma_arr, dtype=object)\n",
    "for i, gamma_P in enumerate(gamma_arr):\n",
    "    RP_params[\"gamma_P\"] = gamma_P\n",
    "    h_RP = get_gw(RP_params)[\"strain\"]\n",
    "    h_RP_arr[i] = h_RP\n",
    "\n",
    "# Create an array of the same shape as h_RP_arr, filled with copies of h_L\n",
    "h_L = get_gw(lens_params)[\"strain\"]\n",
    "h_L_arr = np.empty_like(h_RP_arr, dtype=object)\n",
    "for i in range(len(h_RP_arr)):\n",
    "    h_L_arr[i] = np.copy(h_L)\n",
    "\n",
    "%timeit h_L = get_gw(lens_params)[\"strain\"]\n",
    "%timeit match(h_RP_arr[0], h_L)\n",
    "%timeit optimized_match(h_RP_arr[0], h_L)\n",
    "%timeit [optimized_match(h_RP, h_L) for h_RP in h_RP_arr]"
   ]
  },
  {
   "cell_type": "code",
   "execution_count": 26,
   "metadata": {},
   "outputs": [
    {
     "name": "stdout",
     "output_type": "stream",
     "text": [
      "442 µs ± 35.6 µs per loop (mean ± std. dev. of 7 runs, 1,000 loops each)\n",
      "59.6 µs ± 4.21 µs per loop (mean ± std. dev. of 7 runs, 10,000 loops each)\n",
      "927 µs ± 16.5 µs per loop (mean ± std. dev. of 7 runs, 1,000 loops each)\n",
      "90.1 ms ± 789 µs per loop (mean ± std. dev. of 7 runs, 10 loops each)\n"
     ]
    }
   ],
   "source": [
    "# mcz = 60\n",
    "lens_params[\"mcz\"] = RP_params[\"mcz\"] = 60 * solar_mass\n",
    "\n",
    "h_RP_arr = np.empty_like(gamma_arr, dtype=object)\n",
    "for i, gamma_P in enumerate(gamma_arr):\n",
    "    RP_params[\"gamma_P\"] = gamma_P\n",
    "    h_RP = get_gw(RP_params)[\"strain\"]\n",
    "    h_RP_arr[i] = h_RP\n",
    "\n",
    "# Create an array of the same shape as h_RP_arr, filled with copies of h_L\n",
    "h_L = get_gw(lens_params)[\"strain\"]\n",
    "h_L_arr = np.empty_like(h_RP_arr, dtype=object)\n",
    "for i in range(len(h_RP_arr)):\n",
    "    h_L_arr[i] = np.copy(h_L)\n",
    "\n",
    "%timeit h_L = get_gw(lens_params)[\"strain\"]\n",
    "%timeit match(h_RP_arr[0], h_L)\n",
    "%timeit optimized_match(h_RP_arr[0], h_L)\n",
    "%timeit [optimized_match(h_RP, h_L) for h_RP in h_RP_arr]"
   ]
  },
  {
   "cell_type": "code",
   "execution_count": 55,
   "metadata": {},
   "outputs": [
    {
     "name": "stdout",
     "output_type": "stream",
     "text": [
      "CPU times: user 2 µs, sys: 0 ns, total: 2 µs\n",
      "Wall time: 5.96 µs\n"
     ]
    },
    {
     "ename": "TypeError",
     "evalue": "Can only convert a TimeSeries to a FrequencySeries",
     "output_type": "error",
     "traceback": [
      "\u001b[0;31m---------------------------------------------------------------------------\u001b[0m",
      "\u001b[0;31mTypeError\u001b[0m                                 Traceback (most recent call last)",
      "Cell \u001b[0;32mIn[55], line 4\u001b[0m\n\u001b[1;32m      1\u001b[0m get_ipython()\u001b[38;5;241m.\u001b[39mrun_line_magic(\u001b[38;5;124m'\u001b[39m\u001b[38;5;124mtime\u001b[39m\u001b[38;5;124m'\u001b[39m, \u001b[38;5;124m'\u001b[39m\u001b[38;5;124m'\u001b[39m)\n\u001b[1;32m      3\u001b[0m optimized_match_vec \u001b[38;5;241m=\u001b[39m np\u001b[38;5;241m.\u001b[39mvectorize(optimized_match)\n\u001b[0;32m----> 4\u001b[0m \u001b[43moptimized_match_vec\u001b[49m\u001b[43m(\u001b[49m\u001b[43mh_RP\u001b[49m\u001b[43m,\u001b[49m\u001b[43m \u001b[49m\u001b[43mh_L\u001b[49m\u001b[43m)\u001b[49m\n\u001b[1;32m      5\u001b[0m optimized_match_vec(h_RP_arr, h_L_arr)\n",
      "File \u001b[0;32m/opt/homebrew/lib/python3.9/site-packages/numpy/lib/function_base.py:2372\u001b[0m, in \u001b[0;36mvectorize.__call__\u001b[0;34m(self, *args, **kwargs)\u001b[0m\n\u001b[1;32m   2369\u001b[0m     \u001b[38;5;28mself\u001b[39m\u001b[38;5;241m.\u001b[39m_init_stage_2(\u001b[38;5;241m*\u001b[39margs, \u001b[38;5;241m*\u001b[39m\u001b[38;5;241m*\u001b[39mkwargs)\n\u001b[1;32m   2370\u001b[0m     \u001b[38;5;28;01mreturn\u001b[39;00m \u001b[38;5;28mself\u001b[39m\n\u001b[0;32m-> 2372\u001b[0m \u001b[38;5;28;01mreturn\u001b[39;00m \u001b[38;5;28;43mself\u001b[39;49m\u001b[38;5;241;43m.\u001b[39;49m\u001b[43m_call_as_normal\u001b[49m\u001b[43m(\u001b[49m\u001b[38;5;241;43m*\u001b[39;49m\u001b[43margs\u001b[49m\u001b[43m,\u001b[49m\u001b[43m \u001b[49m\u001b[38;5;241;43m*\u001b[39;49m\u001b[38;5;241;43m*\u001b[39;49m\u001b[43mkwargs\u001b[49m\u001b[43m)\u001b[49m\n",
      "File \u001b[0;32m/opt/homebrew/lib/python3.9/site-packages/numpy/lib/function_base.py:2365\u001b[0m, in \u001b[0;36mvectorize._call_as_normal\u001b[0;34m(self, *args, **kwargs)\u001b[0m\n\u001b[1;32m   2362\u001b[0m     vargs \u001b[38;5;241m=\u001b[39m [args[_i] \u001b[38;5;28;01mfor\u001b[39;00m _i \u001b[38;5;129;01min\u001b[39;00m inds]\n\u001b[1;32m   2363\u001b[0m     vargs\u001b[38;5;241m.\u001b[39mextend([kwargs[_n] \u001b[38;5;28;01mfor\u001b[39;00m _n \u001b[38;5;129;01min\u001b[39;00m names])\n\u001b[0;32m-> 2365\u001b[0m \u001b[38;5;28;01mreturn\u001b[39;00m \u001b[38;5;28;43mself\u001b[39;49m\u001b[38;5;241;43m.\u001b[39;49m\u001b[43m_vectorize_call\u001b[49m\u001b[43m(\u001b[49m\u001b[43mfunc\u001b[49m\u001b[38;5;241;43m=\u001b[39;49m\u001b[43mfunc\u001b[49m\u001b[43m,\u001b[49m\u001b[43m \u001b[49m\u001b[43margs\u001b[49m\u001b[38;5;241;43m=\u001b[39;49m\u001b[43mvargs\u001b[49m\u001b[43m)\u001b[49m\n",
      "File \u001b[0;32m/opt/homebrew/lib/python3.9/site-packages/numpy/lib/function_base.py:2450\u001b[0m, in \u001b[0;36mvectorize._vectorize_call\u001b[0;34m(self, func, args)\u001b[0m\n\u001b[1;32m   2448\u001b[0m     res \u001b[38;5;241m=\u001b[39m func()\n\u001b[1;32m   2449\u001b[0m \u001b[38;5;28;01melse\u001b[39;00m:\n\u001b[0;32m-> 2450\u001b[0m     ufunc, otypes \u001b[38;5;241m=\u001b[39m \u001b[38;5;28;43mself\u001b[39;49m\u001b[38;5;241;43m.\u001b[39;49m\u001b[43m_get_ufunc_and_otypes\u001b[49m\u001b[43m(\u001b[49m\u001b[43mfunc\u001b[49m\u001b[38;5;241;43m=\u001b[39;49m\u001b[43mfunc\u001b[49m\u001b[43m,\u001b[49m\u001b[43m \u001b[49m\u001b[43margs\u001b[49m\u001b[38;5;241;43m=\u001b[39;49m\u001b[43margs\u001b[49m\u001b[43m)\u001b[49m\n\u001b[1;32m   2452\u001b[0m     \u001b[38;5;66;03m# Convert args to object arrays first\u001b[39;00m\n\u001b[1;32m   2453\u001b[0m     inputs \u001b[38;5;241m=\u001b[39m [asanyarray(a, dtype\u001b[38;5;241m=\u001b[39m\u001b[38;5;28mobject\u001b[39m) \u001b[38;5;28;01mfor\u001b[39;00m a \u001b[38;5;129;01min\u001b[39;00m args]\n",
      "File \u001b[0;32m/opt/homebrew/lib/python3.9/site-packages/numpy/lib/function_base.py:2410\u001b[0m, in \u001b[0;36mvectorize._get_ufunc_and_otypes\u001b[0;34m(self, func, args)\u001b[0m\n\u001b[1;32m   2406\u001b[0m     \u001b[38;5;28;01mraise\u001b[39;00m \u001b[38;5;167;01mValueError\u001b[39;00m(\u001b[38;5;124m'\u001b[39m\u001b[38;5;124mcannot call `vectorize` on size 0 inputs \u001b[39m\u001b[38;5;124m'\u001b[39m\n\u001b[1;32m   2407\u001b[0m                      \u001b[38;5;124m'\u001b[39m\u001b[38;5;124munless `otypes` is set\u001b[39m\u001b[38;5;124m'\u001b[39m)\n\u001b[1;32m   2409\u001b[0m inputs \u001b[38;5;241m=\u001b[39m [arg\u001b[38;5;241m.\u001b[39mflat[\u001b[38;5;241m0\u001b[39m] \u001b[38;5;28;01mfor\u001b[39;00m arg \u001b[38;5;129;01min\u001b[39;00m args]\n\u001b[0;32m-> 2410\u001b[0m outputs \u001b[38;5;241m=\u001b[39m \u001b[43mfunc\u001b[49m\u001b[43m(\u001b[49m\u001b[38;5;241;43m*\u001b[39;49m\u001b[43minputs\u001b[49m\u001b[43m)\u001b[49m\n\u001b[1;32m   2412\u001b[0m \u001b[38;5;66;03m# Performance note: profiling indicates that -- for simple\u001b[39;00m\n\u001b[1;32m   2413\u001b[0m \u001b[38;5;66;03m# functions at least -- this wrapping can almost double the\u001b[39;00m\n\u001b[1;32m   2414\u001b[0m \u001b[38;5;66;03m# execution time.\u001b[39;00m\n\u001b[1;32m   2415\u001b[0m \u001b[38;5;66;03m# Hence we make it optional.\u001b[39;00m\n\u001b[1;32m   2416\u001b[0m \u001b[38;5;28;01mif\u001b[39;00m \u001b[38;5;28mself\u001b[39m\u001b[38;5;241m.\u001b[39mcache:\n",
      "File \u001b[0;32m/opt/homebrew/lib/python3.9/site-packages/pycbc/filter/matchedfilter.py:2025\u001b[0m, in \u001b[0;36moptimized_match\u001b[0;34m(vec1, vec2, psd, low_frequency_cutoff, high_frequency_cutoff, v1_norm, v2_norm, return_phase)\u001b[0m\n\u001b[1;32m   1986\u001b[0m \u001b[38;5;250m\u001b[39m\u001b[38;5;124;03m\"\"\"Given two waveforms (as numpy arrays),\u001b[39;00m\n\u001b[1;32m   1987\u001b[0m \u001b[38;5;124;03mcompute the optimized match between them, making use\u001b[39;00m\n\u001b[1;32m   1988\u001b[0m \u001b[38;5;124;03mof scipy.minimize_scalar.\u001b[39;00m\n\u001b[0;32m   (...)\u001b[0m\n\u001b[1;32m   2020\u001b[0m \u001b[38;5;124;03m    Phase to rotate complex waveform to get the match, if desired.\u001b[39;00m\n\u001b[1;32m   2021\u001b[0m \u001b[38;5;124;03m\"\"\"\u001b[39;00m\n\u001b[1;32m   2023\u001b[0m \u001b[38;5;28;01mfrom\u001b[39;00m \u001b[38;5;21;01mscipy\u001b[39;00m\u001b[38;5;21;01m.\u001b[39;00m\u001b[38;5;21;01moptimize\u001b[39;00m \u001b[38;5;28;01mimport\u001b[39;00m minimize_scalar\n\u001b[0;32m-> 2025\u001b[0m htilde \u001b[38;5;241m=\u001b[39m \u001b[43mmake_frequency_series\u001b[49m\u001b[43m(\u001b[49m\u001b[43mvec1\u001b[49m\u001b[43m)\u001b[49m\n\u001b[1;32m   2026\u001b[0m stilde \u001b[38;5;241m=\u001b[39m make_frequency_series(vec2)\n\u001b[1;32m   2028\u001b[0m \u001b[38;5;28;01massert\u001b[39;00m numpy\u001b[38;5;241m.\u001b[39misclose(htilde\u001b[38;5;241m.\u001b[39mdelta_f, stilde\u001b[38;5;241m.\u001b[39mdelta_f)\n",
      "File \u001b[0;32m/opt/homebrew/lib/python3.9/site-packages/pycbc/filter/matchedfilter.py:1019\u001b[0m, in \u001b[0;36mmake_frequency_series\u001b[0;34m(vec)\u001b[0m\n\u001b[1;32m   1017\u001b[0m     \u001b[38;5;28;01mreturn\u001b[39;00m vectilde\n\u001b[1;32m   1018\u001b[0m \u001b[38;5;28;01melse\u001b[39;00m:\n\u001b[0;32m-> 1019\u001b[0m     \u001b[38;5;28;01mraise\u001b[39;00m \u001b[38;5;167;01mTypeError\u001b[39;00m(\u001b[38;5;124m\"\u001b[39m\u001b[38;5;124mCan only convert a TimeSeries to a FrequencySeries\u001b[39m\u001b[38;5;124m\"\u001b[39m)\n",
      "\u001b[0;31mTypeError\u001b[0m: Can only convert a TimeSeries to a FrequencySeries"
     ]
    }
   ],
   "source": [
    "%%time\n",
    "# np.vectorize() does not work with pycbc's match() and optimized_match(), hence the error\n",
    "optimized_match_vec = np.vectorize(optimized_match)\n",
    "optimized_match_vec(h_RP, h_L)\n",
    "optimized_match_vec(h_RP_arr, h_L_arr)"
   ]
  }
 ],
 "metadata": {
  "kernelspec": {
   "display_name": "Python 3",
   "language": "python",
   "name": "python3"
  },
  "language_info": {
   "codemirror_mode": {
    "name": "ipython",
    "version": 3
   },
   "file_extension": ".py",
   "mimetype": "text/x-python",
   "name": "python",
   "nbconvert_exporter": "python",
   "pygments_lexer": "ipython3",
   "version": "3.9.19"
  }
 },
 "nbformat": 4,
 "nbformat_minor": 2
}
